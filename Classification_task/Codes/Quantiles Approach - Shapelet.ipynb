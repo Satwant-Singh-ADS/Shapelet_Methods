{
 "cells": [
  {
   "cell_type": "markdown",
   "id": "da7350f0",
   "metadata": {},
   "source": [
    "# Quantiles"
   ]
  },
  {
   "cell_type": "markdown",
   "id": "fe082f94",
   "metadata": {},
   "source": [
    "https://machinelearningmastery.com/curve-fitting-with-python/\n",
    "\n",
    "https://study.com/academy/lesson/interpolation-in-statistics-definition-formula-example.html"
   ]
  },
  {
   "cell_type": "code",
   "execution_count": null,
   "id": "6b6bf4d3",
   "metadata": {},
   "outputs": [],
   "source": []
  }
 ],
 "metadata": {
  "kernelspec": {
   "display_name": "Python 3",
   "language": "python",
   "name": "python3"
  },
  "language_info": {
   "codemirror_mode": {
    "name": "ipython",
    "version": 3
   },
   "file_extension": ".py",
   "mimetype": "text/x-python",
   "name": "python",
   "nbconvert_exporter": "python",
   "pygments_lexer": "ipython3",
   "version": "3.8.8"
  }
 },
 "nbformat": 4,
 "nbformat_minor": 5
}
