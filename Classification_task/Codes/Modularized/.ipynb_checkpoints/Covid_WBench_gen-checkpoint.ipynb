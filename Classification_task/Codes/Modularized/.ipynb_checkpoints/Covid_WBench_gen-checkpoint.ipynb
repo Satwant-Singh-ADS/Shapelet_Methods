{
 "cells": [
  {
   "cell_type": "markdown",
   "id": "98f68efe",
   "metadata": {},
   "source": [
    "## Covid bench evaluation files Generation"
   ]
  },
  {
   "cell_type": "code",
   "execution_count": 1,
   "id": "5eaf0bf5",
   "metadata": {},
   "outputs": [
    {
     "name": "stdout",
     "output_type": "stream",
     "text": [
      "Process will run for Deaths\n"
     ]
    }
   ],
   "source": [
    "from configs import *\n",
    "\n",
    "\n",
    "def date_formatting(week_nbr):\n",
    "# week_nbr = 164\n",
    "    t = 'Jan 22 2020'\n",
    "    format = '%b %d %Y'\n",
    "    now = datetime.strptime(t,format)\n",
    "    after = now + timedelta(days = int(week_nbr))\n",
    "    return after.date().strftime(\"%Y-%m-%d\")\n"
   ]
  },
  {
   "cell_type": "code",
   "execution_count": 2,
   "id": "1efed39a",
   "metadata": {},
   "outputs": [
    {
     "name": "stderr",
     "output_type": "stream",
     "text": [
      "<ipython-input-2-df7390e17a89>:15: SettingWithCopyWarning: \n",
      "A value is trying to be set on a copy of a slice from a DataFrame.\n",
      "Try using .loc[row_indexer,col_indexer] = value instead\n",
      "\n",
      "See the caveats in the documentation: https://pandas.pydata.org/pandas-docs/stable/user_guide/indexing.html#returning-a-view-versus-a-copy\n",
      "  subset['State']='states'\n"
     ]
    }
   ],
   "source": [
    "\n",
    "Master_df_actual_VS_Model_Agrrement = pd.read_csv(Ouput_path+\"Master_df_actual_VS_Model_Agrrement.csv\")\n",
    "\n",
    "\n",
    "Master_df_actual_VS_Model_Agrrement['forecast_target_week'] = Master_df_actual_VS_Model_Agrrement['Week Number'].apply(date_formatting)\n",
    "\n",
    "\n",
    "\n",
    "Evaluation_file_tmp = Master_df_actual_VS_Model_Agrrement[['Model Name','State','forecast_target_week','Cosine Similarty']]\n",
    "\n",
    "\n",
    "iterations = Evaluation_file_tmp['State'].unique()\n",
    "for state in iterations:\n",
    "    subset = Evaluation_file_tmp[Evaluation_file_tmp['State']==state]\n",
    "    subset.set_index(\"Model Name\")\n",
    "    df_evaluation = pd.pivot_table(subset, values = 'Cosine Similarty', index=['Model Name'], columns = 'forecast_target_week').reset_index()\n",
    "    df_evaluation.fillna(\"\",inplace=True)\n",
    "    df_evaluation = df_evaluation.set_index(\"Model Name\")\n",
    "    df_evaluation.index.name = None\n",
    "    df_evaluation = df_evaluation.rename_axis(None, axis=1)\n",
    "    if state=='United States':\n",
    "        label='states'\n",
    "    else:\n",
    "        label=state\n",
    "    if Runtype=='Cases':\n",
    "        df_evaluation.to_csv(Evaluation_files_github+\"Cases/scs_avg_\"+label+\".csv\")\n",
    "    else:\n",
    "        df_evaluation.to_csv(Evaluation_files_github+\"Deaths/scs_avg_\"+label+\".csv\")\n",
    "        \n",
    "        "
   ]
  }
 ],
 "metadata": {
  "kernelspec": {
   "display_name": "Python 3",
   "language": "python",
   "name": "python3"
  },
  "language_info": {
   "codemirror_mode": {
    "name": "ipython",
    "version": 3
   },
   "file_extension": ".py",
   "mimetype": "text/x-python",
   "name": "python",
   "nbconvert_exporter": "python",
   "pygments_lexer": "ipython3",
   "version": "3.8.8"
  }
 },
 "nbformat": 4,
 "nbformat_minor": 5
}
