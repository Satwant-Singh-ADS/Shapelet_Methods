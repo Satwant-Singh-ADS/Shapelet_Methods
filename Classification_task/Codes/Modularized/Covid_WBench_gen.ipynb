{
 "cells": [
  {
   "cell_type": "markdown",
   "id": "eaeac480",
   "metadata": {},
   "source": [
    "## Covid bench evaluation files Generation"
   ]
  },
  {
   "cell_type": "code",
   "execution_count": 1,
   "id": "bd06f008",
   "metadata": {},
   "outputs": [
    {
     "name": "stdout",
     "output_type": "stream",
     "text": [
      "Process will run for Deaths\n"
     ]
    }
   ],
   "source": [
    "from configs import *\n",
    "\n",
    "\n",
    "def date_formatting(week_nbr):\n",
    "# week_nbr = 164\n",
    "    t = 'Jan 22 2020'\n",
    "    format = '%b %d %Y'\n",
    "    now = datetime.strptime(t,format)\n",
    "    after = now + timedelta(days = int(week_nbr))\n",
    "    return after.date().strftime(\"%Y-%m-%d\")\n"
   ]
  },
  {
   "cell_type": "code",
   "execution_count": 2,
   "id": "262750b6",
   "metadata": {},
   "outputs": [],
   "source": [
    "\n",
    "Master_df_actual_VS_Model_Agrrement = pd.read_csv(Ouput_path+\"Master_df_actual_VS_Model_Agrrement.csv\")\n",
    "\n",
    "\n",
    "Master_df_actual_VS_Model_Agrrement['forecast_target_week'] = Master_df_actual_VS_Model_Agrrement['Week Number'].apply(date_formatting)\n",
    "\n",
    "\n",
    "\n",
    "Evaluation_file_tmp = Master_df_actual_VS_Model_Agrrement[['Model Name','State','forecast_target_week','Cosine Similarty']]\n",
    "\n",
    "\n",
    "iterations = Evaluation_file_tmp['State'].unique()\n",
    "for state in iterations:\n",
    "    subset = Evaluation_file_tmp[Evaluation_file_tmp['State']==state]\n",
    "    subset.set_index(\"Model Name\")\n",
    "    df_evaluation = pd.pivot_table(subset, values = 'Cosine Similarty', index=['Model Name'], columns = 'forecast_target_week').reset_index()\n",
    "    df_evaluation.fillna(\"\",inplace=True)\n",
    "    df_evaluation = df_evaluation.set_index(\"Model Name\")\n",
    "    df_evaluation.index.name = None\n",
    "    df_evaluation = df_evaluation.rename_axis(None, axis=1)\n",
    "    if state=='United States':\n",
    "        label='states'\n",
    "    else:\n",
    "        label=state\n",
    "    if Runtype=='Cases':\n",
    "        df_evaluation.to_csv(Evaluation_files_github+\"Cases/scs_avg_\"+label+\".csv\")\n",
    "    else:\n",
    "        df_evaluation.to_csv(Evaluation_files_github+\"Deaths/scs_avg_\"+label+\".csv\")\n",
    "        \n",
    "        "
   ]
  }
 ],
 "metadata": {
  "kernelspec": {
   "display_name": "Python 3",
   "language": "python",
   "name": "python3"
  },
  "language_info": {
   "codemirror_mode": {
    "name": "ipython",
    "version": 3
   },
   "file_extension": ".py",
   "mimetype": "text/x-python",
   "name": "python",
   "nbconvert_exporter": "python",
   "pygments_lexer": "ipython3",
   "version": "3.8.8"
  }
 },
 "nbformat": 4,
 "nbformat_minor": 5
}
